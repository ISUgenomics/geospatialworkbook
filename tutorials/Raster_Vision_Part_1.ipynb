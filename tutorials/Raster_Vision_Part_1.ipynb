{
 "cells": [
  {
   "cell_type": "markdown",
   "id": "78e01c27-397d-46f0-b488-fc33a91b0ddf",
   "metadata": {},
   "source": [
    "# Semantic Segmentation of Aerial Imagery with Raster Vision \n",
    "## Part 1: Tutorial Setup on SCINet\n",
    "\n",
    "This tutorial series walks through an example of using [Raster Vision](https://rastervision.io/) to train a deep learning model to identify buildings in satellite imagery.</br>\n",
    "\n",
    "*Primary Libraries and Tools*:\n",
    "\n",
    "|Name|Description|Link|\n",
    "|-|-|-|\n",
    "| `Raster Vision ` | Library and framework for geospatial semantic segmentation, object detection, and chip classification with python| https://rastervision.io/ |\n",
    "| `Singularity` | Containerization software that allows for transportable and reproducible software | https://docs.sylabs.io/guides/3.5/user-guide/introduction.html |\n",
    "| `pandas` | Dataframes and other datatypes for data analysis and manipulation | https://pandas.pydata.org/ |\n",
    "| `geopandas` | Extends datatypes used by pandas to allow spatial operations on geometric types | https://geopandas.org/en/stable/ |\n",
    "| `rioxarray` | Data structures and routines for working with gridded geospatial data | https://github.com/corteva/rioxarray |\n",
    "| `plotnine` | A plotting library for Python modeled after R's [ggplot2](https://ggplot2.tidyverse.org/) | https://plotnine.readthedocs.io/en/v0.12.3/ |\n",
    "| `pathlib` | A Python library for handling files and paths in the filesystem | https://docs.python.org/3/library/pathlib.html |\n",
    "\n",
    "*Prerequisites*:\n",
    "  * Basic understanding of navigating the Linux command line, including navigating among directories and editing text files\n",
    "  * Basic python skills, including an understanding of object-oriented programming, function calls, and basic data types\n",
    "  * Basic understanding of shell scripts and job scheduling with SLURM for running code on Atlas\n",
    "  * A SCINet account for running this tutorial on Atlas\n",
    "\n",
    "*Tutorials in this Series*:\n",
    "  * 1\\. **Tutorial Setup on SCINet <span style=\"color: red;\">_(You are here)_</span>**\n",
    "  * 2\\. **Overview of Deep Learning for Imagery and the Raster Vision Pipeline**\n",
    "  * 3\\. **Constructing and Exploring the Singularity Image**\n",
    "  * 4\\. **Exploring the dataset and problem space**\n",
    "  * 5\\. **Overview of Raster Vision Model Configuration and Setup**\n",
    "  * 6\\. **Breakdown of Raster Vision Code Version 1**\n",
    "  * 7\\. **Evaluating training performance and visualizing predictions**"
   ]
  },
  {
   "cell_type": "markdown",
   "id": "88d44221-f673-4404-8845-e69232d6fc1f",
   "metadata": {},
   "source": [
    "## Tutorial Setup\n",
    "\n",
    "To kick off this series of tutorials, we will begin with a tutorial dedicated to setting up your computational environment on Atlas! First, launch [Open OnDemand](https://atlas-ood.hpc.msstate.edu/pun/sys/dashboard) in your browser. Log in with your SCINet credentials. </br>"
   ]
  },
  {
   "cell_type": "markdown",
   "id": "7ac2d804-fe74-4015-b0ec-8c2e01215d11",
   "metadata": {},
   "source": [
    "#### Project Group Identification\n",
    "This tutorial requires users to specify an account name to launch a jupyter session, and to run batch scripts through SLURM. If you are a part of a project group, then you can use that project group name as your account name to launch jupyter run scripts. </br> </br>\n",
    "From MSU OnDemand, click <b>Clusters</b>, then <b>Atlas Shell Access</b>. </br>\n",
    "![Cluster_tab.png](imgs/atlas_shell_access.png) </br>\n",
    "This will open up a terminal tab in another browser window. Log in with your SCINet credentials, then run the following command: </br>\n",
    "`sacctmgr -Pns show user format=account where user=$USER` </br> </br>\n",
    "This will output a list of project groups you are a part of. If you are a part of a project group, you can use any of these project group names to launch jobs for this tutorial. </br> </br>\n",
    "If you are <b>not</b> a part of a project group, you can use the account `sandbox`. This will only grant you access to limited computational resources, and the scripts included in this tutorial will take longer to run. </br></br>\n",
    "Take note of the project group name you would like to use, as we will need it in the next section."
   ]
  },
  {
   "cell_type": "markdown",
   "id": "5fbfeb90-1675-47c7-a2b6-5561ffa9aa42",
   "metadata": {},
   "source": [
    "#### Picking a Project Directory\n",
    "Next, decide on a project directory location. We recommend not using your home directory since you will quickly run out of space. Instead, we recommend either using `/90daydata/shared/$USER/whatever_subdirectory`, or a `/project/project_group_name/whatever_subdirectory` directory if you have one. Make a note of the directory you would like to use - in the following steps, we will create a `rastervision` directory here, and transfer the needed files to this directory."
   ]
  },
  {
   "cell_type": "markdown",
   "id": "01a335d4-25ed-402e-9f70-4f580322b6cb",
   "metadata": {},
   "source": [
    "#### Launching JupyterLab\n",
    "Click on <b> Interactive Apps </b>, then <b>Jupyter</b>. </br>\n",
    "![interactive_session.png](imgs/interactive_session.png) </br>\n",
    "Specify the following job specifications, replacing \"Account Name\" with your project group name, and \"Working Directory\" with the directory you chose above. You may also wish to change the number of hours based on how long you intend to work on this tutorial for now. </br>\n",
    "- Python Version: 3.9.2\n",
    "- Lab or Notebook: JupyterLab\n",
    "- Working Directory: <b> path to desired project directory</b>, ie /90daydata/shared/$USER \n",
    "- Account Name: <b> project group name</b>, ie geospatialworkshop\n",
    "- Partition Name: atlas\n",
    "- QOS: ood – Max Time: 8-00:00:00\n",
    "- Number of hours: 4\n",
    "- Number of nodes: 1\n",
    "- Number of tasks: 1\n",
    "- Additional Slurm Parameters: --mem=32gb\n",
    "\n",
    "Then click the `Launch` button at the bottom of the page. Once your session loads, click the `Connect to Jupyter` button."
   ]
  },
  {
   "cell_type": "markdown",
   "id": "4c7d3178-b336-453c-b643-22b777388124",
   "metadata": {},
   "source": [
    "Once the jupyter session is launched, we will open up a terminal. Click the `+` button on the top left, above the navigation pane.</br>\n",
    "![plus_button.png](imgs/plus_button.png)</br>\n",
    "Then click on the `Terminal` button. </br>\n",
    "![open_terminal.png](imgs/open_terminal.png) </br>"
   ]
  },
  {
   "cell_type": "markdown",
   "id": "8d81711a-ad5c-4a36-a9b9-8a58c1d8a414",
   "metadata": {},
   "source": [
    "#### Setting Project Shell Variables\n",
    "<b>Navigate to your project directory</b>, (ie with `cd /90daydata/shared/$User`) and run the following two commands. This will create a directory called `rastervision/` for all of your Raster Vision tutorials and materials, and store the the path to this `rastervision/` directory into the shell variable `project_dir`. </br></br>\n",
    "`mkdir rastervision` </br>\n",
    "``project_dir=`pwd`/rastervision`` </br>\n",
    "\n",
    "Then, run this command to store your project group name into a shell variable. If you are not a part of the geospatialworkshop project group, replace \"geospatialworkshop\" with the name of a project group you are a part of. </br>\n",
    "`project_name=\"geospatialworkshop\"`"
   ]
  },
  {
   "cell_type": "markdown",
   "id": "7120c49e-284a-4b37-934f-c2a5932c3c20",
   "metadata": {},
   "source": [
    "#### Transferring Workshop Files to Project Directory\n",
    "This workshop refers to files stored in the `/reference/workshops/rastervision` folder. We will only transfer some of the contents of `/reference/workshops/rastervision` to our project directory because some of the files are very large and can be referenced in-place.\n",
    "\n",
    "Use the following commands to copy the reference files to your project directory. </br>\n",
    "`cd $project_dir` </br>\n",
    "`cp -r /reference/workshops/rastervision/model/ .` </br>\n",
    "`cp -r /reference/workshops/rastervision/tutorial_notebooks/ .` </br>\n",
    "\n",
    "Here, the `model/` directory contains all of our code to create our container, and train our model. The `tutorial_notebooks` folder contains all of the jupyter notebooks for this series, in addition to the `imgs/` folder which includes images used in the tutorials."
   ]
  },
  {
   "cell_type": "markdown",
   "id": "320b9725-fcba-4067-aa0f-878fafaf1a0a",
   "metadata": {},
   "source": [
    "#### Creating the Kernel\n",
    "\n",
    "Run these commands in the terminal to create the jupyter kernel: </br>\n",
    "`source /reference/workshops/rastervision/rastervision_env/bin/activate` </br>\n",
    "`ipython kernel install --name \"rastervision_env\" --user` </br>\n",
    "`cp /reference/workshops/rastervision/rastervision_env/rastervision_env.json ~/.local/share/jupyter/kernels/rastervision_env/kernel.json` </br>"
   ]
  },
  {
   "cell_type": "markdown",
   "id": "2b27d0d0-ce75-4d15-b7ab-4bbe41c73fc9",
   "metadata": {},
   "source": [
    "#### Open Workbook\n",
    "\n",
    "From the navigation pane on the left side of the screen, navigate to your `rastervision` directory.</br>\n",
    "</br>\n",
    "![open_workbook_directory.png](imgs/open_workbook_directory.png) </br>\n",
    "Here, you will see the two folders you just copied over: `model/` and `tutorial_notebooks/`. Click on `tutorial_notebooks/`.\n",
    "![rastervision_directory.png](imgs/rastervision_directory.png)\n",
    "\n",
    "Here, you will see all of the Raster Vision tutorial notebooks including this notebook, and the `imgs/` directory. You can go ahead and open up all of the notebooks in the series if you'd like, or just open up the first few.</br>\n",
    "![open_workbook.png](imgs/open_workbook.png) </br>\n",
    "\n",
    "Lastly, set the kernel by clicking on the `Kernel` tab, selecting `Change Kernel...`, and then selecting the `rastervision_env` kernel. </br>\n",
    "![change_kernel.png](imgs/change_kernel.png)"
   ]
  },
  {
   "cell_type": "markdown",
   "id": "ac47ba9c-34f8-44c6-9c20-bcf041fc277e",
   "metadata": {},
   "source": [
    "#### Conclusion\n",
    "You are now all ready to work through this tutorial series! Next, now open up Raster_Vision_Part_2.ipynb to learn more about Deep Learning and the Raster Vision Pipeline."
   ]
  }
 ],
 "metadata": {
  "kernelspec": {
   "display_name": "rastervision_env",
   "language": "python",
   "name": "rastervision_env"
  },
  "language_info": {
   "codemirror_mode": {
    "name": "ipython",
    "version": 3
   },
   "file_extension": ".py",
   "mimetype": "text/x-python",
   "name": "python",
   "nbconvert_exporter": "python",
   "pygments_lexer": "ipython3",
   "version": "3.9.2"
  }
 },
 "nbformat": 4,
 "nbformat_minor": 5
}
