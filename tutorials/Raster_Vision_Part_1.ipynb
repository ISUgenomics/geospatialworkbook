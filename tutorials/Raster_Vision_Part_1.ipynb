{
 "cells": [
  {
   "cell_type": "markdown",
   "id": "78e01c27-397d-46f0-b488-fc33a91b0ddf",
   "metadata": {},
   "source": [
    "# Semantic Segmentation of Aerial Imagery with Raster Vision \n",
    "## Part 1: Tutorial Setup on SCINet\n",
    "\n",
    "This tutorial series walks through an example of using [Raster Vision](https://rastervision.io/) to train a deep learning model to identify buildings in satellite imagery.</br>\n",
    "\n",
    "*Primary Libraries and Tools*:\n",
    "\n",
    "|Name|Description|Link|\n",
    "|-|-|-|\n",
    "| `Raster Vision ` | Library and framework for geospatial semantic segmentation, object detection, and chip classification with python| https://rastervision.io/ |\n",
    "| `Singularity` | Containerization software that allows for transportable and reproducible software | https://docs.sylabs.io/guides/3.5/user-guide/introduction.html |\n",
    "| `pandas` | Dataframes and other datatypes for data analysis and manipulation | https://pandas.pydata.org/ |\n",
    "| `geopandas` | Extends datatypes used by pandas to allow spatial operations on geometric types | https://geopandas.org/en/stable/ |\n",
    "| `rioxarray` | Data structures and routines for working with gridded geospatial data | https://github.com/corteva/rioxarray |\n",
    "| `plotnine` | A plotting library for Python modeled after R's [ggplot2](https://ggplot2.tidyverse.org/) | https://plotnine.readthedocs.io/en/v0.12.3/ |\n",
    "| `pathlib` | A Python library for handling files and paths in the filesystem | https://docs.python.org/3/library/pathlib.html |\n",
    "\n",
    "*Prerequisites*:\n",
    "  * Basic understanding of navigating the Linux command line, including navigating among directories and editing text files\n",
    "  * Basic python skills, including an understanding of object-oriented programming, function calls, and basic data types\n",
    "  * Basic understanding of shell scripts and job scheduling with SLURM for running code on Atlas\n",
    "  * A SCINet account for running this tutorial on Atlas\n",
    "\n",
    "*Tutorials in this Series*:\n",
    "  * 1\\. **Tutorial Setup on SCINet <span style=\"color: red;\">_(You are here)_</span>**\n",
    "  * 2\\. **Overview of Deep Learning for Imagery and the Raster Vision Pipeline**\n",
    "  * 3\\. **Constructing and Exploring the Singularity Image**\n",
    "  * 4\\. **Exploring the dataset and problem space**\n",
    "  * 5\\. **Overview of Raster Vision Model Configuration and Setup**\n",
    "  * 6\\. **Breakdown of Raster Vision Code Version 1**\n",
    "  * 7\\. **Evaluating training performance and visualizing predictions**"
   ]
  },
  {
   "cell_type": "markdown",
   "id": "145146cd-191b-4b00-9034-8ad387832131",
   "metadata": {},
   "source": [
    "## Tutorial Setup\n",
    "\n",
    "To kick off this series of tutorials, we will begin with a tutorial dedicated to setting up your computational environment on SCINet! First, launch [Open OnDemand](https://atlas-ood.hpc.msstate.edu/pun/sys/dashboard) in your browser. Log in with your SCINet credentials. </br>\n",
    "\n",
    "#### Project Group Identification\n",
    "This tutorial requires users to specify a project account name to launch a jupyter session, and to run batch scripts through slurm. If you are a part of a project group, then you can use that group name as your account name to run scripts. </br> </br>\n",
    "From MSU OnDemand, click <b>Clusters</b>, then <b>Atlas Shell Access</b>. </br>\n",
    "![Cluster_tab.png](imgs/atlas_shell_access.png) </br>\n",
    "This will open up a terminal tab in another browser window. Log in with your SCINet credentials, then run the following command: </br>\n",
    "`sacctmgr -Pns show user format=account where user=$USER` </br> </br>\n",
    "This will output a list of project groups you are a part of. If you are a part of a project group, you can use any of these project group names to launch jobs for this tutorial. </br> </br>\n",
    "If you are <b>not</b> a part of a project group, you can use the account `sandbox`. This will only grant you access to limited computational resources, and the scripts included in this tutorial will take longer to run. </br></br>\n",
    "Take note of the project group name you would like to use, as we will need it in the next section."
   ]
  },
  {
   "cell_type": "markdown",
   "id": "3e1a4dd0-e11b-4974-99db-73bd5b7fec05",
   "metadata": {},
   "source": [
    "#### Launching JupyterLab\n",
    "Click on <b> Interactive Apps </b>, then <b>Jupyter</b>. </br>\n",
    "![interactive_session.png](imgs/interactive_session.png) </br>\n",
    "Specify the following input values on the page, replacing \"Account Name\" with your project group name. You may also wish to change the number of hours based on how long you intend to work on this tutorial for now. </br>\n",
    "- Python Version: 3.10.8\n",
    "- Lab or Notebook: JupyterLab\n",
    "- Working Directory: <b> path to desired project directory </b>\n",
    "- Account Name: geospatialworkshop\n",
    "- Partition Name: atlas\n",
    "- QOS: ood – Max Time: 8-00:00:00\n",
    "- Number of hours: 4\n",
    "- Number of nodes: 1\n",
    "- Number of tasks: 1\n",
    "- Additional Slurm Parameters: --mem=32gb\n",
    "\n",
    "Then click the `Launch` button at the bottom of the page. Once your session loads, click the `Connect to Jupyter` button.\n",
    "\n",
    "Once the jupyter session is launched, we will open up a terminal. Click the `+` button on the top right, above the navigation pane.</br>\n",
    "![plus_button.png](imgs/plus_button.png)</br>\n",
    "Then click on the `Terminal` button. </br>\n",
    "![open_terminal.png](imgs/open_terminal.png) </br>"
   ]
  },
  {
   "cell_type": "markdown",
   "id": "8d81711a-ad5c-4a36-a9b9-8a58c1d8a414",
   "metadata": {},
   "source": [
    "<a id='var_setup'></a>\n",
    "#### Setting Project Shell Variables\n",
    "In the terminal, use the following commands to save your project group name and project directory path as shell variables. If you are not a part of the \"geospatialworkshop\" project group, replace \"geospatialworkshop\" in the first line with the name of a project group that you are a part of. \n",
    "\n",
    "Next, decide on a project directory location. You may use your home directory, though you may quickly run out of space, so we recommend using the 90daydata directory instead. If you have space in a project directory that you would prefer to use over 90daydata, modify the path in the second command. Otherwise, leave the command as is to use 90daydata. \n",
    "\n",
    "Navigate to the directory you would like to store your project directory in, and run the following commands. This will create your project directory, store the project directory path into the shell variable `project_dir`, and to store your project group name into the shell variable `project_name`. If you are not a part of the geospatialworkshop group, replace \"geospatialworkshop\" with the name of a project group that you are a part of. </br></br>\n",
    "`mkdir rv_workbook` </br>\n",
    "``project_dir=`pwd`/rastervision`` </br>\n",
    "`project_name=geospatialworkshop` </br>"
   ]
  },
  {
   "cell_type": "markdown",
   "id": "7120c49e-284a-4b37-934f-c2a5932c3c20",
   "metadata": {},
   "source": [
    "#### Transferring Workshop Files to Project Directory\n",
    "This workshop refers to files stored in the `/reference/workshops/rastervision` folder. We will only transfer some of the contents of `/reference/workshops/rastervision` to our project directory because some of the files are very large and can be referenced in-place.\n",
    "\n",
    "Use the following commands to copy the reference files to your project directory. </br>\n",
    "`cd $project_dir` </br>\n",
    "`cp /reference/workshops/rastervision/model/ .` </br>\n",
    "`cp /reference/workshops/rastervision/*.ipynb .` </br>"
   ]
  },
  {
   "cell_type": "markdown",
   "id": "320b9725-fcba-4067-aa0f-878fafaf1a0a",
   "metadata": {},
   "source": [
    "#### Creating the Kernel\n",
    "\n",
    "NOA: Update this to refer to a kernel in /reference/workshops/rastervision\n",
    "(First test in 90daydata, then ask for a transfer)\n",
    "\n",
    "Run these commands in the terminal to create the jupyter kernel: </br>\n",
    "`source /project/geospatialworkshop/workshop_venv/bin/activate` </br>\n",
    "`ipython kernel install --name \"grwg_workshop\" --user` </br>\n",
    "`cp /project/geospatialworkshop/grwg_workshop.json ~/.local/share/jupyter/kernels/grwg_workshop/kernel.json` </br>"
   ]
  },
  {
   "cell_type": "markdown",
   "id": "2b27d0d0-ce75-4d15-b7ab-4bbe41c73fc9",
   "metadata": {},
   "source": [
    "#### Open Workbook\n",
    "\n",
    "From the navigation pane on the left side of the screen, navigate to your `rv_workbook` directory.</br>\n",
    "</br>\n",
    "![open_workbook_directory.png](imgs/open_workbook_directory.png) </br>\n",
    "Next, click on `Raster_Vision_workbook.ipynb` to launch the workbook.</br>\n",
    "![open_workbook.png](imgs/open_workbook.png) </br>\n",
    "\n",
    "Lastly, set the kernel by clicking on the `Kernel` tab, selecting `Change Kernel...`, and then selecting the `grwg_workshop` kernel. </br>\n",
    "![change_kernel.png](imgs/change_kernel.png)"
   ]
  }
 ],
 "metadata": {
  "kernelspec": {
   "display_name": "Python 3",
   "language": "python",
   "name": "python3"
  },
  "language_info": {
   "codemirror_mode": {
    "name": "ipython",
    "version": 3
   },
   "file_extension": ".py",
   "mimetype": "text/x-python",
   "name": "python",
   "nbconvert_exporter": "python",
   "pygments_lexer": "ipython3",
   "version": "3.9.2"
  }
 },
 "nbformat": 4,
 "nbformat_minor": 5
}
