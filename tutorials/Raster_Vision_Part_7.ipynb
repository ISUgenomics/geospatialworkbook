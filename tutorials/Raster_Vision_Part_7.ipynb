{
 "cells": [
  {
   "cell_type": "markdown",
   "id": "ea0f90ea-7a1f-4272-9b94-c1fa4ea97c6d",
   "metadata": {},
   "source": [
    "# Semantic Segmentation of Aerial Imagery with Raster Vision \n",
    "## Part 7: Evaluating training performance and visualizing predictions\n",
    "\n",
    "This tutorial series walks through an example of using [Raster Vision](https://rastervision.io/) to train a deep learning model to identify buildings in satellite imagery.</br>\n",
    "\n",
    "*Primary Libraries and Tools*:\n",
    "\n",
    "|Name|Description|Link|\n",
    "|-|-|-|\n",
    "| `Raster Vision ` | Library and framework for geospatial semantic segmentation, object detection, and chip classification with python| https://rastervision.io/ |\n",
    "| `Apptainer` | Containerization software that allows for transportable and reproducible software | https://apptainer.org/ |\n",
    "| `pandas` | Dataframes and other datatypes for data analysis and manipulation | https://pandas.pydata.org/ |\n",
    "| `geopandas` | Extends datatypes used by pandas to allow spatial operations on geometric types | https://geopandas.org/en/stable/ |\n",
    "| `rioxarray` | Data structures and routines for working with gridded geospatial data | https://github.com/corteva/rioxarray |\n",
    "| `plotnine` | A plotting library for Python modeled after R's [ggplot2](https://ggplot2.tidyverse.org/) | https://plotnine.readthedocs.io/en/v0.12.3/ |\n",
    "| `pathlib` | A Python library for handling files and paths in the filesystem | https://docs.python.org/3/library/pathlib.html |\n",
    "\n",
    "*Prerequisites*:\n",
    "  * Basic understanding of navigating the Linux command line, including navigating among directories and editing text files\n",
    "  * Basic python skills, including an understanding of object-oriented programming, function calls, and basic data types\n",
    "  * Basic understanding of shell scripts and job scheduling with SLURM for running code on Atlas\n",
    "  * A SCINet account for running this tutorial on Atlas\n",
    "  * **Completion of tutorial parts 1-6 of this series**\n",
    "\n",
    "*Tutorials in this Series*:\n",
    "  * 1\\. **Tutorial Setup on SCINet**\n",
    "  * 2\\. **Overview of Deep Learning for Imagery and the Raster Vision Pipeline**\n",
    "  * 3\\. **Constructing and Exploring the Apptainer Image**\n",
    "  * 4\\. **Exploring the dataset and problem space**\n",
    "  * 5\\. **Overview of Raster Vision Model Configuration and Setup**\n",
    "  * 6\\. **Breakdown of Raster Vision Code Version 1**\n",
    "  * 7\\. **Evaluating Training Performance and Visualizing Predictions <span style=\"color: red;\">_(You are here)_</span>**\n",
    "  * 8\\. **Modifying Model Configuration - Covering Entire Prediction Space**\n",
    "  * 9\\. **Modifying Model Configuration - Data Augmentation**\n",
    "  * 10\\. **Modifying Model Configuration - Hyperparameter Tuning**"
   ]
  },
  {
   "cell_type": "markdown",
   "id": "f9f18aeb-4951-4032-8468-f16988797453",
   "metadata": {},
   "source": [
    "<a id='step_7'></a>\n",
    "## Evaluating Training Performance and Visualizing Predictions\n",
    "\n",
    "Once training is complete, it is important to examine the metrics Raster Vision gathered during the training process. These metrics can help you evaluate whether the training process succeeded and how well your model performs. Model evaluation metrics are rich topics which we will not have time to discuss in much detail for this tutorial. We will visualize several key metrics that Raster Vision logged during the training process. This will help us assess how well our training worked."
   ]
  },
  {
   "cell_type": "markdown",
   "id": "932ec6e6-5f65-4672-8db8-a63c72d2c724",
   "metadata": {},
   "source": [
    "Once the code you sbatch-ed in the previous tutorial has finished running, all of the model outputs will appear in the new `output1` directory. Raster Vision will produce a lot of output information, and we will only need to refer to some of it in this tutorial series. The Raster Vision pipeline will populate the `output1/` directory with the following four subdirectories: \n",
    "- `bundle/`, which contains a model bundle for deployment\n",
    "- `eval/`, which contains our evaluation metrics\n",
    "- `predict/`, which contains the model predictions on the validation and test sets\n",
    "- `train/`, which contains information on the model training process\n",
    "\n",
    "In this tutorial, we will examine some of the evaluation metrics in the `eval/` directory, information about the training process in the `train/` directory, and visualize some prediction rasters in the `predict/` directory."
   ]
  },
  {
   "cell_type": "code",
   "execution_count": 1,
   "id": "53514333-a6f8-42d4-8614-9549fd4ee094",
   "metadata": {},
   "outputs": [
    {
     "name": "stderr",
     "output_type": "stream",
     "text": [
      "/apps/python-3.9.2/lib/python3.9/site-packages/geopandas/_compat.py:111: UserWarning: The Shapely GEOS version (3.10.2-CAPI-1.16.0) is incompatible with the GEOS version PyGEOS was compiled with (3.10.4-CAPI-1.16.2). Conversions between both will be slow.\n",
      "  warnings.warn(\n"
     ]
    }
   ],
   "source": [
    "from pathlib import Path\n",
    "import matplotlib.pyplot as plt\n",
    "import json\n",
    "import pandas as pd\n",
    "import numpy as np\n",
    "import rioxarray\n",
    "import geopandas as gpd\n",
    "import plotnine as pn"
   ]
  },
  {
   "cell_type": "markdown",
   "id": "9947b8d0-ab24-447a-a119-7bee541aabd5",
   "metadata": {},
   "source": [
    "Set the following variable, `output_dir` to specify the path of your `output1` directory."
   ]
  },
  {
   "cell_type": "code",
   "execution_count": 2,
   "id": "e4c560c9-4d4b-4277-9149-7aada6ca7110",
   "metadata": {},
   "outputs": [],
   "source": [
    "# Update this path to refer to the output directory you just created\n",
    "output_dir = Path(\"/90daydata/shared/noa.mills/rastervision/model/output1\")"
   ]
  },
  {
   "cell_type": "markdown",
   "id": "7ef9b35e-34f7-4030-8f14-62f9caea5a89",
   "metadata": {},
   "source": [
    "#### 1. Evaluating our Model Performance Metrics\n",
    "\n",
    "First, we will look at the confusion matrix. This represents the proportion of true positive (TP), true negative (TN), false positive (FN), and false positive (FP) predictions in our validation set. If you are not familiar with confusion matricies, you can learn more about them [here](https://www.geeksforgeeks.org/confusion-matrix-machine-learning/).\n",
    "\n",
    "Our evaluation metrics are stored in `output1/eval/validation_scenes/eval.json`. This file includes various metrics including precision, recall, f1 score, sensitivity, specificity, etc for each prediction class (building, background, null) and for each validation scene.\n",
    "\n",
    "Here, we will define a function that will display our confusion matrix from the information in our eval.json file. We will input to this function the path to our output directory, and it will read in the evaluation metrics our model produced. This function will display a proportional confusion matrix, so each box in the confusion represents the total proportion of pixels that are within that category. Also, our confusion matrix will be greyscale colorcoded, so values closer to 1 will be closer to white, and values closer to 0 will be closer to black. Ideally, we'd like to see the FP and FN classes both be black, or close to 0."
   ]
  },
  {
   "cell_type": "code",
   "execution_count": 3,
   "id": "954253ef-cd70-461b-b3bf-4b553cdb79e5",
   "metadata": {},
   "outputs": [],
   "source": [
    "def display_conf_mat(output_path: Path):\n",
    "    eval_path = Path(output_path / \"eval/validation_scenes/eval.json\")\n",
    "    with open(eval_path) as eval_file:\n",
    "        eval = json.load(eval_file)\n",
    "    metrics = eval[\"overall\"][0][\"conf_mat_frac_dict\"]\n",
    "    values = np.around(\n",
    "        np.array([[metrics[\"TP\"], metrics[\"FP\"]],\n",
    "              [metrics[\"FN\"], metrics[\"TN\"]]]\n",
    "                ),\n",
    "        decimals=3\n",
    "    )\n",
    "    true_labels = [\"Actual positive\", \"Actual negative\"]\n",
    "    pred_labels = [\"Pred positive\", \"Pred negative\"]\n",
    "    fig, ax = plt.subplots()\n",
    "    im = ax.imshow(values, cmap=\"gray\")\n",
    "    # Show all ticks and label them with the respective list entries\n",
    "    ax.set_xticks(np.arange(len(pred_labels)), labels=pred_labels)\n",
    "    ax.set_yticks(np.arange(len(true_labels)), labels=true_labels)\n",
    "    # Loop over data dimensions and create text annotations.\n",
    "    for i in range(len(true_labels)):\n",
    "        for j in range(len(pred_labels)):\n",
    "            text = ax.text(j, i, values[i,j],\n",
    "                           ha=\"center\", va=\"center\", color=\"r\", fontsize=\"xx-large\")\n",
    "    ax.set_title(\"Confusion Matrix\")\n",
    "    fig.tight_layout()\n",
    "    plt.show()"
   ]
  },
  {
   "cell_type": "code",
   "execution_count": 4,
   "id": "6ba3f312-dccf-47d6-9988-0a826e30ed24",
   "metadata": {},
   "outputs": [
    {
     "ename": "FileNotFoundError",
     "evalue": "[Errno 2] No such file or directory: '/90daydata/shared/noa.mills/rastervision/model/output1/eval/validation_scenes/eval.json'",
     "output_type": "error",
     "traceback": [
      "\u001b[0;31m---------------------------------------------------------------------------\u001b[0m",
      "\u001b[0;31mFileNotFoundError\u001b[0m                         Traceback (most recent call last)",
      "\u001b[0;32m<ipython-input-4-aeac23265fc2>\u001b[0m in \u001b[0;36m<module>\u001b[0;34m\u001b[0m\n\u001b[1;32m      1\u001b[0m \u001b[0;31m# Call this function on our output directory to view the confusion matrix\u001b[0m\u001b[0;34m\u001b[0m\u001b[0;34m\u001b[0m\u001b[0;34m\u001b[0m\u001b[0m\n\u001b[0;32m----> 2\u001b[0;31m \u001b[0mdisplay_conf_mat\u001b[0m\u001b[0;34m(\u001b[0m\u001b[0moutput_dir\u001b[0m\u001b[0;34m)\u001b[0m\u001b[0;34m\u001b[0m\u001b[0;34m\u001b[0m\u001b[0m\n\u001b[0m",
      "\u001b[0;32m<ipython-input-3-1f55498d0299>\u001b[0m in \u001b[0;36mdisplay_conf_mat\u001b[0;34m(output_path)\u001b[0m\n\u001b[1;32m      1\u001b[0m \u001b[0;32mdef\u001b[0m \u001b[0mdisplay_conf_mat\u001b[0m\u001b[0;34m(\u001b[0m\u001b[0moutput_path\u001b[0m\u001b[0;34m:\u001b[0m \u001b[0mPath\u001b[0m\u001b[0;34m)\u001b[0m\u001b[0;34m:\u001b[0m\u001b[0;34m\u001b[0m\u001b[0;34m\u001b[0m\u001b[0m\n\u001b[1;32m      2\u001b[0m     \u001b[0meval_path\u001b[0m \u001b[0;34m=\u001b[0m \u001b[0mPath\u001b[0m\u001b[0;34m(\u001b[0m\u001b[0moutput_path\u001b[0m \u001b[0;34m/\u001b[0m \u001b[0;34m\"eval/validation_scenes/eval.json\"\u001b[0m\u001b[0;34m)\u001b[0m\u001b[0;34m\u001b[0m\u001b[0;34m\u001b[0m\u001b[0m\n\u001b[0;32m----> 3\u001b[0;31m     \u001b[0;32mwith\u001b[0m \u001b[0mopen\u001b[0m\u001b[0;34m(\u001b[0m\u001b[0meval_path\u001b[0m\u001b[0;34m)\u001b[0m \u001b[0;32mas\u001b[0m \u001b[0meval_file\u001b[0m\u001b[0;34m:\u001b[0m\u001b[0;34m\u001b[0m\u001b[0;34m\u001b[0m\u001b[0m\n\u001b[0m\u001b[1;32m      4\u001b[0m         \u001b[0meval\u001b[0m \u001b[0;34m=\u001b[0m \u001b[0mjson\u001b[0m\u001b[0;34m.\u001b[0m\u001b[0mload\u001b[0m\u001b[0;34m(\u001b[0m\u001b[0meval_file\u001b[0m\u001b[0;34m)\u001b[0m\u001b[0;34m\u001b[0m\u001b[0;34m\u001b[0m\u001b[0m\n\u001b[1;32m      5\u001b[0m     \u001b[0mmetrics\u001b[0m \u001b[0;34m=\u001b[0m \u001b[0meval\u001b[0m\u001b[0;34m[\u001b[0m\u001b[0;34m\"overall\"\u001b[0m\u001b[0;34m]\u001b[0m\u001b[0;34m[\u001b[0m\u001b[0;36m0\u001b[0m\u001b[0;34m]\u001b[0m\u001b[0;34m[\u001b[0m\u001b[0;34m\"conf_mat_frac_dict\"\u001b[0m\u001b[0;34m]\u001b[0m\u001b[0;34m\u001b[0m\u001b[0;34m\u001b[0m\u001b[0m\n",
      "\u001b[0;31mFileNotFoundError\u001b[0m: [Errno 2] No such file or directory: '/90daydata/shared/noa.mills/rastervision/model/output1/eval/validation_scenes/eval.json'"
     ]
    }
   ],
   "source": [
    "# Call this function on our output directory to view the confusion matrix\n",
    "display_conf_mat(output_dir)"
   ]
  },
  {
   "cell_type": "markdown",
   "id": "7cab33d1-7d66-4c7a-bb35-b90454d16239",
   "metadata": {},
   "source": [
    "We can see that so far our mode does a pretty good job for our first attempt - we have low instances of False Positives and False Negatives. Lets take a look at some of the prediction rasters so we can see where the model tends to incorrectly classify pixels."
   ]
  },
  {
   "cell_type": "markdown",
   "id": "c8c27dad-808a-4b44-b9f7-35e314081da5",
   "metadata": {},
   "source": [
    "#### 2. Visualizing our Prediction Rasters\n",
    "Let's define a function to visualize our predictions on the validation set. We will need to refer to the validation data stored in `/reference/workshops/rastervision/input/val/`, as well as data stored in our `output1/` directory. We have a total of 50 validation images, so we will use the `val_scene_index` variable to specify which of these validation images we would like to visualize."
   ]
  },
  {
   "cell_type": "code",
   "execution_count": null,
   "id": "209eeffa-36cb-472e-9e06-b22df450abbc",
   "metadata": {},
   "outputs": [],
   "source": [
    "def plot_prediction(output_dir: Path, val_scene_index: int):\n",
    "    if val_scene_index not in range(0,50):\n",
    "        print(\"Choose a valid index between 0 and 49\")\n",
    "        return\n",
    "    # Read in input data\n",
    "    val_data_dir = Path(\"/reference/workshops/rastervision/input/val/\")\n",
    "    raster_list = list(sorted(val_data_dir.glob('*.tif'))) # Sort files alphabetically\n",
    "    raster_path = str(raster_list[val_scene_index])\n",
    "    scene_id = raster_path.split(\"img\")[1].split(\".\")[0]\n",
    "    vector_filename = \"buildings_AOI_2_Vegas_img\" + scene_id + \".geojson\"\n",
    "    vector_path = Path(val_data_dir / vector_filename)\n",
    "    raster = rioxarray.open_rasterio(raster_path)\n",
    "    vector = gpd.read_file(vector_path)\n",
    "    \n",
    "    # Read in prediction raster\n",
    "    prediction_path = Path(output_dir / \"predict\" / scene_id / \"labels.tif\")\n",
    "    prediction = rioxarray.open_rasterio(prediction_path)\n",
    "\n",
    "    # Display prediction raster and satellite image, both overlayed with the building outlines\n",
    "    fig, axs = plt.subplots(ncols=2, nrows=1, figsize=(16,8))\n",
    "    prediction.plot(ax=axs[0], levels=[0,1,2,3], colors = ['tomato', 'darkgreen', 'white'])\n",
    "    raster_scaled = (raster - raster.min())/(raster.max() - raster.min())\n",
    "    raster_scaled.plot.imshow(ax=axs[1])\n",
    "    if len(vector) > 0:\n",
    "        vector.boundary.plot(ax=axs[0], color=\"cyan\")\n",
    "        vector.boundary.plot(ax=axs[1], color=\"cyan\")"
   ]
  },
  {
   "cell_type": "code",
   "execution_count": null,
   "id": "8eb9b46f-5fbc-4818-a49f-3b9ce7f130d0",
   "metadata": {
    "scrolled": true
   },
   "outputs": [],
   "source": [
    "# Change the index here to view different validation scenes\n",
    "plot_prediction(output_dir, 3)"
   ]
  },
  {
   "cell_type": "markdown",
   "id": "87d3e0aa-e070-4c4e-8747-6d94530947d4",
   "metadata": {},
   "source": [
    "At first glance, we can see that our model most commonly predicts pixels incorrectly around the edges of buildings, but it tends to label the centers of buildings correctly.</br> </br>\n",
    "Take a look at the legend on the prediction raster. This has three levels - 0, 1 and 2. Levels 0 and 1 correspond to our ClassConfig's class ID's for the \"building\" and \"background\" classes respectively. Raster Vision includes a \"null\" class as well - this class is associated with source raster pixels with no data. On each prediction raster, we see that the model predicts the null class in the same place - a strip along the bottom and a strip along the right hand side. Our raster images have data in these areas, so it doesn't make sense initially why we are getting null values here. Here's what's going on: our images are all 650 by 650 pixels large, and our chip size is 300 by 300 pixels large. The \"predict\" stage of the Raster Vision pipeline creates chips out of our validation scenes in a sliding fashion from left to right and top to bottom. So, it doesn't reach the edges of the images, and thus predicts those areas as \"null\". Here's a visualization of how rastervision chips the prediction rasters. ![image](imgs/gridded300.png)\n",
    "</br> We will fix this in the next version of our code. Before we get to that, let's see how our training loss changed during the model training process."
   ]
  },
  {
   "cell_type": "markdown",
   "id": "a371db92-7cc6-4a07-bd9b-7fc03747b5ee",
   "metadata": {},
   "source": [
    "#### 3. Analyzing Model Training Process"
   ]
  },
  {
   "cell_type": "markdown",
   "id": "b1962029-357c-426c-a522-98968df1283c",
   "metadata": {},
   "source": [
    "Raster Vision stores training metrics per epoch in the file `train/log.csv`. This data includes the training time, loss on the training and validation sets, as well as the precision, recall, and f1 scores for each class level. Let's take a look at this data."
   ]
  },
  {
   "cell_type": "code",
   "execution_count": 8,
   "id": "6c5b7326-a5ce-4ef9-b8ce-5a028406a6a3",
   "metadata": {},
   "outputs": [
    {
     "data": {
      "text/html": [
       "<div>\n",
       "<style scoped>\n",
       "    .dataframe tbody tr th:only-of-type {\n",
       "        vertical-align: middle;\n",
       "    }\n",
       "\n",
       "    .dataframe tbody tr th {\n",
       "        vertical-align: top;\n",
       "    }\n",
       "\n",
       "    .dataframe thead th {\n",
       "        text-align: right;\n",
       "    }\n",
       "</style>\n",
       "<table border=\"1\" class=\"dataframe\">\n",
       "  <thead>\n",
       "    <tr style=\"text-align: right;\">\n",
       "      <th></th>\n",
       "      <th>epoch</th>\n",
       "      <th>train_loss</th>\n",
       "      <th>train_time</th>\n",
       "      <th>val_loss</th>\n",
       "      <th>avg_precision</th>\n",
       "      <th>avg_recall</th>\n",
       "      <th>avg_f1</th>\n",
       "      <th>building_precision</th>\n",
       "      <th>building_recall</th>\n",
       "      <th>building_f1</th>\n",
       "      <th>background_precision</th>\n",
       "      <th>background_recall</th>\n",
       "      <th>background_f1</th>\n",
       "      <th>null_precision</th>\n",
       "      <th>null_recall</th>\n",
       "      <th>null_f1</th>\n",
       "      <th>valid_time</th>\n",
       "    </tr>\n",
       "  </thead>\n",
       "  <tbody>\n",
       "    <tr>\n",
       "      <th>0</th>\n",
       "      <td>0</td>\n",
       "      <td>0.142328</td>\n",
       "      <td>0:10:51.291356</td>\n",
       "      <td>0.101957</td>\n",
       "      <td>0.958634</td>\n",
       "      <td>0.959448</td>\n",
       "      <td>0.959040</td>\n",
       "      <td>0.910127</td>\n",
       "      <td>0.830776</td>\n",
       "      <td>0.868643</td>\n",
       "      <td>0.967969</td>\n",
       "      <td>0.984211</td>\n",
       "      <td>0.976023</td>\n",
       "      <td>0.0</td>\n",
       "      <td>0.0</td>\n",
       "      <td>0.0</td>\n",
       "      <td>0:00:18.761810</td>\n",
       "    </tr>\n",
       "    <tr>\n",
       "      <th>1</th>\n",
       "      <td>1</td>\n",
       "      <td>0.090626</td>\n",
       "      <td>0:02:29.828607</td>\n",
       "      <td>0.091314</td>\n",
       "      <td>0.963261</td>\n",
       "      <td>0.963905</td>\n",
       "      <td>0.963583</td>\n",
       "      <td>0.905914</td>\n",
       "      <td>0.848602</td>\n",
       "      <td>0.876322</td>\n",
       "      <td>0.973436</td>\n",
       "      <td>0.984363</td>\n",
       "      <td>0.978869</td>\n",
       "      <td>0.0</td>\n",
       "      <td>0.0</td>\n",
       "      <td>0.0</td>\n",
       "      <td>0:00:08.952355</td>\n",
       "    </tr>\n",
       "    <tr>\n",
       "      <th>2</th>\n",
       "      <td>2</td>\n",
       "      <td>0.085994</td>\n",
       "      <td>0:02:16.540006</td>\n",
       "      <td>0.086547</td>\n",
       "      <td>0.965834</td>\n",
       "      <td>0.966100</td>\n",
       "      <td>0.965967</td>\n",
       "      <td>0.898276</td>\n",
       "      <td>0.878828</td>\n",
       "      <td>0.888445</td>\n",
       "      <td>0.978095</td>\n",
       "      <td>0.981938</td>\n",
       "      <td>0.980013</td>\n",
       "      <td>0.0</td>\n",
       "      <td>0.0</td>\n",
       "      <td>0.0</td>\n",
       "      <td>0:00:07.573893</td>\n",
       "    </tr>\n",
       "    <tr>\n",
       "      <th>3</th>\n",
       "      <td>3</td>\n",
       "      <td>0.083207</td>\n",
       "      <td>0:02:14.154727</td>\n",
       "      <td>0.135978</td>\n",
       "      <td>0.952754</td>\n",
       "      <td>0.953924</td>\n",
       "      <td>0.953338</td>\n",
       "      <td>0.903617</td>\n",
       "      <td>0.786052</td>\n",
       "      <td>0.840744</td>\n",
       "      <td>0.961748</td>\n",
       "      <td>0.984653</td>\n",
       "      <td>0.973066</td>\n",
       "      <td>0.0</td>\n",
       "      <td>0.0</td>\n",
       "      <td>0.0</td>\n",
       "      <td>0:00:07.427925</td>\n",
       "    </tr>\n",
       "    <tr>\n",
       "      <th>4</th>\n",
       "      <td>4</td>\n",
       "      <td>0.081330</td>\n",
       "      <td>0:02:16.602931</td>\n",
       "      <td>0.088979</td>\n",
       "      <td>0.964002</td>\n",
       "      <td>0.964633</td>\n",
       "      <td>0.964317</td>\n",
       "      <td>0.930076</td>\n",
       "      <td>0.836514</td>\n",
       "      <td>0.880818</td>\n",
       "      <td>0.970283</td>\n",
       "      <td>0.988356</td>\n",
       "      <td>0.979236</td>\n",
       "      <td>0.0</td>\n",
       "      <td>0.0</td>\n",
       "      <td>0.0</td>\n",
       "      <td>0:00:06.939325</td>\n",
       "    </tr>\n",
       "    <tr>\n",
       "      <th>5</th>\n",
       "      <td>5</td>\n",
       "      <td>0.070738</td>\n",
       "      <td>0:02:14.016818</td>\n",
       "      <td>0.084603</td>\n",
       "      <td>0.965765</td>\n",
       "      <td>0.966333</td>\n",
       "      <td>0.966049</td>\n",
       "      <td>0.925987</td>\n",
       "      <td>0.855802</td>\n",
       "      <td>0.889512</td>\n",
       "      <td>0.973250</td>\n",
       "      <td>0.987130</td>\n",
       "      <td>0.980141</td>\n",
       "      <td>0.0</td>\n",
       "      <td>0.0</td>\n",
       "      <td>0.0</td>\n",
       "      <td>0:00:05.994544</td>\n",
       "    </tr>\n",
       "    <tr>\n",
       "      <th>6</th>\n",
       "      <td>6</td>\n",
       "      <td>0.068185</td>\n",
       "      <td>0:02:13.343361</td>\n",
       "      <td>0.078350</td>\n",
       "      <td>0.968082</td>\n",
       "      <td>0.968576</td>\n",
       "      <td>0.968329</td>\n",
       "      <td>0.924243</td>\n",
       "      <td>0.867056</td>\n",
       "      <td>0.894737</td>\n",
       "      <td>0.976064</td>\n",
       "      <td>0.987060</td>\n",
       "      <td>0.981531</td>\n",
       "      <td>0.0</td>\n",
       "      <td>0.0</td>\n",
       "      <td>0.0</td>\n",
       "      <td>0:00:07.350330</td>\n",
       "    </tr>\n",
       "    <tr>\n",
       "      <th>7</th>\n",
       "      <td>7</td>\n",
       "      <td>0.062340</td>\n",
       "      <td>0:02:13.471685</td>\n",
       "      <td>0.074436</td>\n",
       "      <td>0.970581</td>\n",
       "      <td>0.970832</td>\n",
       "      <td>0.970707</td>\n",
       "      <td>0.918025</td>\n",
       "      <td>0.894618</td>\n",
       "      <td>0.906171</td>\n",
       "      <td>0.980402</td>\n",
       "      <td>0.985073</td>\n",
       "      <td>0.982732</td>\n",
       "      <td>0.0</td>\n",
       "      <td>0.0</td>\n",
       "      <td>0.0</td>\n",
       "      <td>0:00:07.170519</td>\n",
       "    </tr>\n",
       "  </tbody>\n",
       "</table>\n",
       "</div>"
      ],
      "text/plain": [
       "   epoch  train_loss      train_time  val_loss  avg_precision  avg_recall  \\\n",
       "0      0    0.142328  0:10:51.291356  0.101957       0.958634    0.959448   \n",
       "1      1    0.090626  0:02:29.828607  0.091314       0.963261    0.963905   \n",
       "2      2    0.085994  0:02:16.540006  0.086547       0.965834    0.966100   \n",
       "3      3    0.083207  0:02:14.154727  0.135978       0.952754    0.953924   \n",
       "4      4    0.081330  0:02:16.602931  0.088979       0.964002    0.964633   \n",
       "5      5    0.070738  0:02:14.016818  0.084603       0.965765    0.966333   \n",
       "6      6    0.068185  0:02:13.343361  0.078350       0.968082    0.968576   \n",
       "7      7    0.062340  0:02:13.471685  0.074436       0.970581    0.970832   \n",
       "\n",
       "     avg_f1  building_precision  building_recall  building_f1  \\\n",
       "0  0.959040            0.910127         0.830776     0.868643   \n",
       "1  0.963583            0.905914         0.848602     0.876322   \n",
       "2  0.965967            0.898276         0.878828     0.888445   \n",
       "3  0.953338            0.903617         0.786052     0.840744   \n",
       "4  0.964317            0.930076         0.836514     0.880818   \n",
       "5  0.966049            0.925987         0.855802     0.889512   \n",
       "6  0.968329            0.924243         0.867056     0.894737   \n",
       "7  0.970707            0.918025         0.894618     0.906171   \n",
       "\n",
       "   background_precision  background_recall  background_f1  null_precision  \\\n",
       "0              0.967969           0.984211       0.976023             0.0   \n",
       "1              0.973436           0.984363       0.978869             0.0   \n",
       "2              0.978095           0.981938       0.980013             0.0   \n",
       "3              0.961748           0.984653       0.973066             0.0   \n",
       "4              0.970283           0.988356       0.979236             0.0   \n",
       "5              0.973250           0.987130       0.980141             0.0   \n",
       "6              0.976064           0.987060       0.981531             0.0   \n",
       "7              0.980402           0.985073       0.982732             0.0   \n",
       "\n",
       "   null_recall  null_f1      valid_time  \n",
       "0          0.0      0.0  0:00:18.761810  \n",
       "1          0.0      0.0  0:00:08.952355  \n",
       "2          0.0      0.0  0:00:07.573893  \n",
       "3          0.0      0.0  0:00:07.427925  \n",
       "4          0.0      0.0  0:00:06.939325  \n",
       "5          0.0      0.0  0:00:05.994544  \n",
       "6          0.0      0.0  0:00:07.350330  \n",
       "7          0.0      0.0  0:00:07.170519  "
      ]
     },
     "execution_count": 8,
     "metadata": {},
     "output_type": "execute_result"
    }
   ],
   "source": [
    "# Load the logged metrics values.\n",
    "training_metrics = pd.read_csv(output_dir / 'train/log.csv')\n",
    "training_metrics"
   ]
  },
  {
   "cell_type": "markdown",
   "id": "16bac448-c23d-4be1-b339-ca71e01f5dae",
   "metadata": {},
   "source": [
    "We want to visualize the training loss, the validation loss, and the building f1 score. Let's define a function to plot how these values changed during the training process."
   ]
  },
  {
   "cell_type": "code",
   "execution_count": 11,
   "id": "0f254d52-55e1-488d-95a9-f98b01daff49",
   "metadata": {},
   "outputs": [],
   "source": [
    "def plot_metrics(output_path: Path):\n",
    "    training_metrics = pd.read_csv(output_path / 'train/log.csv')\n",
    "    training_loss = training_metrics[['epoch', 'train_loss']]\n",
    "    val_loss = training_metrics[['epoch', 'val_loss']]\n",
    "    building_f1 = training_metrics[['epoch', 'building_f1']]\n",
    "    fig, [ax1, ax2, ax3] = plt.subplots(nrows=3, figsize = (10,16))\n",
    "    training_loss.plot(x=\"epoch\", y=\"train_loss\", ax=ax1)\n",
    "    val_loss.plot(x=\"epoch\", y=\"val_loss\", ax=ax2)\n",
    "    building_f1.plot(x=\"epoch\", y=\"building_f1\", ax=ax3)"
   ]
  },
  {
   "cell_type": "code",
   "execution_count": 12,
   "id": "d79e2622-908e-40c5-b15f-929d247b63bf",
   "metadata": {},
   "outputs": [
    {
     "data": {
      "image/png": "[encoded data removed]",
      "text/plain": [
       "<Figure size 720x1152 with 3 Axes>"
      ]
     },
     "metadata": {
      "needs_background": "light"
     },
     "output_type": "display_data"
    }
   ],
   "source": [
    "plot_metrics(output_dir)"
   ]
  },
  {
   "cell_type": "markdown",
   "id": "3f5775bd-4000-48a7-b855-1990dc8388fa",
   "metadata": {},
   "source": [
    "We can see that our training loss steadily decreased, as expected. However, our validation loss unexpectedly jumped on epoch 3, and our building f1 score decreased correspondingly.\n",
    "\n",
    "In the next few tutorials, we will apply modifications to our model, and see how these changes affect our model output."
   ]
  }
 ],
 "metadata": {
  "kernelspec": {
   "display_name": "Python 3 (ipykernel)",
   "language": "python",
   "name": "python3"
  },
  "language_info": {
   "codemirror_mode": {
    "name": "ipython",
    "version": 3
   },
   "file_extension": ".py",
   "mimetype": "text/x-python",
   "name": "python",
   "nbconvert_exporter": "python",
   "pygments_lexer": "ipython3",
   "version": "3.9.14"
  }
 },
 "nbformat": 4,
 "nbformat_minor": 5
}
